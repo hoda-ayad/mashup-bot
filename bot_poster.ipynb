{
 "cells": [
  {
   "cell_type": "markdown",
   "metadata": {},
   "source": [
    "## Step 1: Connect to a Bluesky Account\n",
    "\n",
    "Begin by running the cell below."
   ]
  },
  {
   "cell_type": "code",
   "execution_count": 23,
   "metadata": {},
   "outputs": [
    {
     "data": {
      "text/plain": [
       "True"
      ]
     },
     "execution_count": 23,
     "metadata": {},
     "output_type": "execute_result"
    }
   ],
   "source": [
    "# Load some code called \"Client\" from the \"atproto\" library that will help us work with Bluesky\n",
    "#!pip install atproto\n",
    "from atproto import Client\n",
    "\n",
    "import import_ipynb\n",
    "import lyrics_bot as lyBot\n",
    "\n",
    "import os\n",
    "from dotenv import load_dotenv, dotenv_values \n",
    "load_dotenv() \n"
   ]
  },
  {
   "cell_type": "markdown",
   "metadata": {},
   "source": [
    "Next, create a Bluesky account for your bot. See [this tutorial](https://social-media-ethics-automation.github.io/book/bsky/appendix/making_bot_account.html) if you need help.\n",
    "\n",
    "Put your new username and password below. (_Always remember to remove this information if you publish your notebook online!_)"
   ]
  },
  {
   "cell_type": "code",
   "execution_count": null,
   "metadata": {},
   "outputs": [
    {
     "data": {
      "text/plain": [
       "ProfileViewDetailed(did='did:plc:74nqqsvec7mdhuzvb7g56bpu', handle='mashup-bot.bsky.social', associated=ProfileAssociated(feedgens=0, labeler=False, lists=0, py_type='app.bsky.actor.defs#profileAssociated', starterPacks=0), avatar='https://cdn.bsky.app/img/avatar/plain/did:plc:74nqqsvec7mdhuzvb7g56bpu/bafkreicln3pajduo6sn3iewlvvqpm5aiilqfmmgjjse3hgxykyzrenfzyq@jpeg', banner=None, description=\"Let's mash some phrases together!\", display_name='Mashup Bot', followers_count=0, follows_count=0, indexed_at='2024-12-25T22:18:46.342Z', labels=[], posts_count=39, viewer=ViewerState(blocked_by=False, blocking=None, blocking_by_list=None, followed_by=None, following=None, muted=False, muted_by_list=None, py_type='app.bsky.actor.defs#viewerState'), py_type='app.bsky.actor.defs#profileViewDetailed', createdAt='2024-12-25T22:08:39.343Z', pinnedPost={'cid': 'bafyreie7dftujanmhzp22envl4zimlywgvbblyp2gasdd47izgbxpiskhy', 'uri': 'at://did:plc:74nqqsvec7mdhuzvb7g56bpu/app.bsky.feed.post/3le5xzdttct2s'})"
      ]
     },
     "execution_count": 24,
     "metadata": {},
     "output_type": "execute_result"
    }
   ],
   "source": [
    "my_username = \"mashup-bot.bsky.social\"\n",
    "my_password = \"YE@b3UNFP5j.pZd\"\n",
    "\n",
    "client = Client(base_url=\"https://bsky.social\")\n",
    "client.login(my_username, my_password)"
   ]
  },
  {
   "cell_type": "markdown",
   "metadata": {},
   "source": [
    "## Step 2: Generate your post text\n",
    "\n",
    "What will you mashup? Summarize below what your mashup will be, then go to the file titled \"text_generator.ipynb\" to implement your idea:"
   ]
  },
  {
   "cell_type": "markdown",
   "metadata": {},
   "source": [
    "*[Summarize your idea here]*"
   ]
  },
  {
   "cell_type": "markdown",
   "metadata": {},
   "source": [
    "Once you've gone through that notebook, continue below! Run this cell to test that your output looks right."
   ]
  },
  {
   "cell_type": "code",
   "execution_count": 27,
   "metadata": {},
   "outputs": [
    {
     "data": {
      "text/plain": [
       "\"I couldn't whisper when you needed it shouted, ah but I'm singing like a citizen out of you.\""
      ]
     },
     "execution_count": 27,
     "metadata": {},
     "output_type": "execute_result"
    }
   ],
   "source": [
    "post_text = lyBot.get_lyric()\n",
    "post_text"
   ]
  },
  {
   "cell_type": "markdown",
   "metadata": {},
   "source": [
    "Did it work? Great! Send it off to BlueSky by running the cell below. "
   ]
  },
  {
   "cell_type": "code",
   "execution_count": 26,
   "metadata": {},
   "outputs": [
    {
     "data": {
      "text/plain": [
       "CreateRecordResponse(uri='at://did:plc:74nqqsvec7mdhuzvb7g56bpu/app.bsky.feed.post/3lggo64qtog22', cid='bafyreib6si3zdjucpb5q57rvtl4cr53s7krv7ampodd4w3ymylomvtdcwa')"
      ]
     },
     "execution_count": 26,
     "metadata": {},
     "output_type": "execute_result"
    }
   ],
   "source": [
    "client.send_post(post_text)"
   ]
  },
  {
   "cell_type": "markdown",
   "metadata": {},
   "source": [
    "Check your bot's profile to see if it works. If it did, feel free to run the below cell as many times as you want to generate your new responses! (Don't do it too quickly or you might get blocked out by BlueSky!!)"
   ]
  },
  {
   "cell_type": "code",
   "execution_count": 31,
   "metadata": {},
   "outputs": [
    {
     "name": "stdout",
     "output_type": "stream",
     "text": [
      "Posted text: They're gonna clean up your looks with all the lies in the books to the world was still outside the reach of him, would never belong to angels, had never belonged to men\n"
     ]
    },
    {
     "data": {
      "text/plain": [
       "CreateRecordResponse(uri='at://did:plc:74nqqsvec7mdhuzvb7g56bpu/app.bsky.feed.post/3lggrh2aky22a', cid='bafyreicril7ve532paqb4ecpmjd5pssf6dqjhi3mcykoomt2zrade4qve4')"
      ]
     },
     "execution_count": 31,
     "metadata": {},
     "output_type": "execute_result"
    }
   ],
   "source": [
    "post_text = lyBot.get_lyric()\n",
    "print(\"Posted text: \" + post_text)\n",
    "client.send_post(post_text)"
   ]
  },
  {
   "cell_type": "markdown",
   "metadata": {},
   "source": [
    "Success!! You are now the proud owner of this BlueSky bot. If you're a little more technically savvy and have experience with GitHub, you can clone my repository [here]() to make your bot automatically post your mashups every 2 hours. "
   ]
  }
 ],
 "metadata": {
  "kernelspec": {
   "display_name": "Python 3",
   "language": "python",
   "name": "python3"
  },
  "language_info": {
   "codemirror_mode": {
    "name": "ipython",
    "version": 3
   },
   "file_extension": ".py",
   "mimetype": "text/x-python",
   "name": "python",
   "nbconvert_exporter": "python",
   "pygments_lexer": "ipython3",
   "version": "3.11.1"
  }
 },
 "nbformat": 4,
 "nbformat_minor": 2
}
