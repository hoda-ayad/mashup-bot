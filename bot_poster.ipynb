{
 "cells": [
  {
   "cell_type": "markdown",
   "metadata": {},
   "source": [
    "## Step 1: Connect to a Bluesky Account\n",
    "\n",
    "Begin by running the cell below."
   ]
  },
  {
   "cell_type": "code",
   "execution_count": 23,
   "metadata": {},
   "outputs": [
    {
     "data": {
      "text/plain": [
       "True"
      ]
     },
     "execution_count": 23,
     "metadata": {},
     "output_type": "execute_result"
    }
   ],
   "source": [
    "# Load some code called \"Client\" from the \"atproto\" library that will help us work with Bluesky\n",
    "#!pip install atproto\n",
    "from atproto import Client\n",
    "\n",
    "import import_ipynb\n",
    "import lyrics_bot as lyBot\n",
    "\n",
    "import os\n",
    "from dotenv import load_dotenv, dotenv_values \n",
    "load_dotenv() \n"
   ]
  },
  {
   "cell_type": "markdown",
   "metadata": {},
   "source": [
    "Next, create a Bluesky account for your bot. See [this tutorial](https://social-media-ethics-automation.github.io/book/bsky/appendix/making_bot_account.html) if you need help.\n",
    "\n",
    "Put your new username and password below. (_Always remember to remove this information if you publish your notebook online!_)"
   ]
  },
  {
   "cell_type": "code",
   "execution_count": null,
   "metadata": {},
   "outputs": [
    {
     "data": {
      "text/plain": [
       "ProfileViewDetailed(did='did:plc:74nqqsvec7mdhuzvb7g56bpu', handle='mashup-bot.bsky.social', associated=ProfileAssociated(feedgens=0, labeler=False, lists=0, py_type='app.bsky.actor.defs#profileAssociated', starterPacks=0), avatar='https://cdn.bsky.app/img/avatar/plain/did:plc:74nqqsvec7mdhuzvb7g56bpu/bafkreicln3pajduo6sn3iewlvvqpm5aiilqfmmgjjse3hgxykyzrenfzyq@jpeg', banner=None, description=\"Let's mash some phrases together!\", display_name='Mashup Bot', followers_count=0, follows_count=0, indexed_at='2024-12-25T22:18:46.342Z', labels=[], posts_count=39, viewer=ViewerState(blocked_by=False, blocking=None, blocking_by_list=None, followed_by=None, following=None, muted=False, muted_by_list=None, py_type='app.bsky.actor.defs#viewerState'), py_type='app.bsky.actor.defs#profileViewDetailed', createdAt='2024-12-25T22:08:39.343Z', pinnedPost={'cid': 'bafyreie7dftujanmhzp22envl4zimlywgvbblyp2gasdd47izgbxpiskhy', 'uri': 'at://did:plc:74nqqsvec7mdhuzvb7g56bpu/app.bsky.feed.post/3le5xzdttct2s'})"
      ]
     },
     "execution_count": 24,
     "metadata": {},
     "output_type": "execute_result"
    }
   ],
   "source": [
    "my_username = \"mashup-bot.bsky.social\"\n",
    "my_password = \"YE@b3UNFP5j.pZd\"\n",
    "\n",
    "client = Client(base_url=\"https://bsky.social\")\n",
    "client.login(my_username, my_password)"
   ]
  },
  {
   "cell_type": "code",
   "execution_count": 25,
   "metadata": {},
   "outputs": [
    {
     "name": "stdout",
     "output_type": "stream",
     "text": [
      "mashup-bot.bsky.social\n"
     ]
    }
   ],
   "source": [
    "print(os.getenv(\"USER\"))"
   ]
  },
  {
   "cell_type": "markdown",
   "metadata": {},
   "source": [
    "## Step 2: Collect your post text"
   ]
  },
  {
   "cell_type": "code",
   "execution_count": 19,
   "metadata": {},
   "outputs": [
    {
     "data": {
      "text/plain": [
       "'What difference do it make if the blackness of some distant star, the thrill of knowing how alone we are, unknown we are'"
      ]
     },
     "execution_count": 19,
     "metadata": {},
     "output_type": "execute_result"
    }
   ],
   "source": [
    "post_text = lyBot.get_lyric()\n",
    "post_text"
   ]
  },
  {
   "cell_type": "code",
   "execution_count": null,
   "metadata": {},
   "outputs": [
    {
     "data": {
      "text/plain": [
       "CreateRecordResponse(uri='at://did:plc:74nqqsvec7mdhuzvb7g56bpu/app.bsky.feed.post/3lgcperttfa2r', cid='bafyreidfsob3pj7hxunusgjrqtb3m7hjftz3vulrqugft35xfrkmnaxx3u')"
      ]
     },
     "metadata": {},
     "output_type": "display_data"
    }
   ],
   "source": [
    "client.send_post(post_text)\n",
    "client.send_post(\"this is my username!\" + os.getenv(\"USER\"))"
   ]
  }
 ],
 "metadata": {
  "kernelspec": {
   "display_name": "Python 3",
   "language": "python",
   "name": "python3"
  },
  "language_info": {
   "codemirror_mode": {
    "name": "ipython",
    "version": 3
   },
   "file_extension": ".py",
   "mimetype": "text/x-python",
   "name": "python",
   "nbconvert_exporter": "python",
   "pygments_lexer": "ipython3",
   "version": "3.11.1"
  }
 },
 "nbformat": 4,
 "nbformat_minor": 2
}
