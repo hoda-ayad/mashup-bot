{
 "cells": [
  {
   "cell_type": "markdown",
   "metadata": {},
   "source": [
    "## More Bot Possibilities!"
   ]
  },
  {
   "cell_type": "markdown",
   "metadata": {},
   "source": [
    "### 1. Create the text\n",
    "\n",
    "We will start with a text to transform. Pick something from [Project Gutenberg](https://www.gutenberg.org/) and a change you'd like to make.\n",
    "\n",
    "Here I've chosen to create a Muppet's _Romeo and Juliet_ from the original play. It's the same text as the original, but I've replaced the major characters with [_The Avocado_'s Muppet fancasts](https://the-avocado.org/2018/11/23/muppet-casting-romeo-juliet/) as listed below:\n",
    "\n",
    "- Romeo: Miss Piggy\n",
    "- Juliet: Kermit the Frog\n",
    "- Mercutio: Gonzo the Great\n",
    "- The Nurse: Fozzie Bear\n",
    "- Tybalt: Animal\n",
    "- Lord Capulet: Rowlf the Dog\n",
    "- Friar Lawrence: Rizzo the Rat\n",
    "- Count Paris: Count von Count\n",
    "- Prince Escalus: Whoopie Goldberg (my favorite Muppet)"
   ]
  },
  {
   "cell_type": "code",
   "execution_count": null,
   "metadata": {},
   "outputs": [],
   "source": [
    "%pip install gutenbergpy\n",
    "from gutenbergpy import textget"
   ]
  },
  {
   "cell_type": "code",
   "execution_count": null,
   "metadata": {},
   "outputs": [],
   "source": [
    "import re\n",
    "raw_book = textget.get_text_by_id(1513)\n",
    "clean_book = textget.strip_headers(raw_book)\n",
    "\n",
    "clean_book"
   ]
  },
  {
   "cell_type": "code",
   "execution_count": null,
   "metadata": {},
   "outputs": [],
   "source": [
    "def group_lines_by_empty(lines):\n",
    "    grouped_lines = []\n",
    "    current_group = []\n",
    "\n",
    "    for line in lines:\n",
    "        if line.strip():\n",
    "            current_group.append(line.strip())\n",
    "        elif current_group:\n",
    "            grouped_lines.append(' \\n'.join(current_group))\n",
    "            current_group = []\n",
    "\n",
    "    if current_group:\n",
    "        grouped_lines.append(' \\n'.join(current_group))\n",
    "\n",
    "    return grouped_lines"
   ]
  },
  {
   "cell_type": "code",
   "execution_count": null,
   "metadata": {},
   "outputs": [],
   "source": [
    "cast = {\n",
    "    'ROMEO': 'MISS PIGGY',\n",
    "    'JULIET': 'KERMIT',\n",
    "    'MERCUTIO': 'GONZO',\n",
    "    'BENVOLIO': 'CAMILLA THE CHICKEN',\n",
    "    'NURSE': 'FOZZIE',\n",
    "    'TYBALT': 'ANIMAL',\n",
    "    'CAPULET': 'ROWLF',\n",
    "    'FRIAR LAWRENCE': 'RIZZO THE RAT',\n",
    "    'PARIS': 'COUNT VON COUNT',\n",
    "    'ESCALUS': 'GOLDBERG',\n",
    "    'PRINCE': 'WHOOPI',\n",
    "    'MONTAGUE': 'PEPE',\n",
    "    'ABRAM': 'BEAKER',\n",
    "    'BALTHASAR': 'BOBO THE BEAR',\n",
    "    'PETER': 'WALTER',\n",
    "    'SAMPSON': 'STATLER',\n",
    "    'GREGORY': 'WALDORF',\n",
    "    'FRIAR JOHN': 'SAM EAGLE',\n",
    "    'CHORUS': 'PENGUINS',\n",
    "    'ROSALINE': 'SCOOTER'\n",
    "}\n",
    "\n",
    "muppet_book = clean_book.decode(\"utf-8\")\n",
    "for character, replacement in cast.items():\n",
    "    muppet_book = re.sub(character, replacement, muppet_book, flags=re.IGNORECASE)\n",
    "\n",
    "\n",
    "muppet_book.splitlines()[93:]\n",
    "\n",
    "muppet_shakespeare_lines = group_lines_by_empty(muppet_book.splitlines()[93:])"
   ]
  },
  {
   "cell_type": "code",
   "execution_count": null,
   "metadata": {},
   "outputs": [],
   "source": [
    "tweet = muppet_shakespeare_lines[0]\n",
    "client.send_post(tweet)"
   ]
  }
 ],
 "metadata": {
  "language_info": {
   "name": "python"
  }
 },
 "nbformat": 4,
 "nbformat_minor": 2
}
